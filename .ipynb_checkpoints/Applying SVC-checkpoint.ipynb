{
 "cells": [
  {
   "cell_type": "code",
   "execution_count": 117,
   "metadata": {
    "collapsed": false
   },
   "outputs": [],
   "source": [
    "import numpy as np\n",
    "from __future__ import division"
   ]
  },
  {
   "cell_type": "code",
   "execution_count": 118,
   "metadata": {
    "collapsed": true
   },
   "outputs": [],
   "source": [
    "import warnings\n",
    "warnings.filterwarnings(\"ignore\")"
   ]
  },
  {
   "cell_type": "code",
   "execution_count": 119,
   "metadata": {
    "collapsed": true
   },
   "outputs": [],
   "source": [
    "import matplotlib.pyplot as plt\n",
    "from sklearn import svm,preprocessing\n",
    "import pandas as pd\n",
    "from matplotlib import style\n",
    "style.use(\"ggplot\")"
   ]
  },
  {
   "cell_type": "code",
   "execution_count": 120,
   "metadata": {
    "collapsed": false
   },
   "outputs": [],
   "source": [
    "FEATURES = [\"DE Ratio\",\n",
    "                      'Trailing P/E',\n",
    "                      'Price/Sales',\n",
    "                      'Price/Book',\n",
    "                      'Profit Margin',\n",
    "                      'Operating Margin',\n",
    "                      'Return on Assets',\n",
    "                      'Return on Equity',\n",
    "                      'Revenue Per Share',\n",
    "                      'Market Cap',\n",
    "                        'Enterprise Value',\n",
    "                        'Forward P/E',\n",
    "                        'PEG Ratio',\n",
    "                        'Enterprise Value/Revenue',\n",
    "                        'Enterprise Value/EBITDA',\n",
    "                        'Revenue',\n",
    "                        'Gross Profit',\n",
    "                        'EBITDA',\n",
    "                        'Net Income Avl to Common ',\n",
    "                        'Diluted EPS',\n",
    "                        'Earnings Growth',\n",
    "                        'Revenue Growth',\n",
    "                        'Total Cash',\n",
    "                        'Total Cash Per Share',\n",
    "                        'Total Debt',\n",
    "                        'Current Ratio',\n",
    "                        'Book Value Per Share',\n",
    "                        'Cash Flow',\n",
    "                        'Beta',\n",
    "                        'Held by Insiders',\n",
    "                        'Held by Institutions',\n",
    "                        'Shares Short (as of',\n",
    "                        'Short Ratio',\n",
    "                        'Short % of Float',\n",
    "                        'Shares Short (prior ']\n"
   ]
  },
  {
   "cell_type": "code",
   "execution_count": 121,
   "metadata": {
    "collapsed": true
   },
   "outputs": [],
   "source": [
    "def Build_Data_Set():\n",
    "    \n",
    "    data_df = pd.DataFrame.from_csv(\"key_stats.csv\")\n",
    "    #data_df = data_df[:100]\n",
    "    \n",
    "    X = np.array(data_df[FEATURES].values)\n",
    "    y = (data_df[\"Status\"]\n",
    "        .replace(\"underperform\",0)\n",
    "        .replace(\"outperform\",1)\n",
    "        .values.tolist())\n",
    "    X = preprocessing.scale(X)\n",
    "    \n",
    "    return X,y"
   ]
  },
  {
   "cell_type": "code",
   "execution_count": 134,
   "metadata": {
    "collapsed": false
   },
   "outputs": [],
   "source": [
    "def Analysis():\n",
    "    \n",
    "    test_size = 1500\n",
    "    X,y = Build_Data_Set()\n",
    "    print len(X)\n",
    "    clf = svm.SVC(kernel = \"linear\",C=1.0)\n",
    "    clf.fit(X[:-test_size],y[:-test_size])\n",
    "    \n",
    "    correct_count = 0\n",
    "    \n",
    "    for x in range(1,test_size+1):\n",
    "        if clf.predict(X[-x])[0] == y[-x]:\n",
    "            correct_count+=1\n",
    "\n",
    "    print correct_count\n",
    "    print test_size\n",
    "    print \"Accuracy:\",((correct_count/test_size)*100 )\n",
    "    \n",
    "    '''\n",
    "    w = clf.coef_[0]\n",
    "    a = -w[0]/w[1]\n",
    "    xx = np.linspace(min(X[:,0]),max(X[:,0]))\n",
    "    yy = a*xx - clf.intercept_[0]/w[1]\n",
    "    \n",
    "    h0 = plt.plot(xx,yy,\"k-\",label=\"non weighted\")\n",
    "    \n",
    "    plt.scatter(X[:,0],X[:,1],c=y)\n",
    "    plt.xlabel(\"DE Ratio\")\n",
    "    plt.ylabel(\"Trailing PE\")\n",
    "    plt.show()\n",
    "    '''"
   ]
  },
  {
   "cell_type": "code",
   "execution_count": 138,
   "metadata": {
    "collapsed": false
   },
   "outputs": [],
   "source": [
    "def Randomizing():\n",
    "    df = pd.DataFrame({\"D1\":range(5),\"D2\":range(5)})\n",
    "    print df"
   ]
  },
  {
   "cell_type": "code",
   "execution_count": null,
   "metadata": {
    "collapsed": true
   },
   "outputs": [],
   "source": []
  },
  {
   "cell_type": "code",
   "execution_count": null,
   "metadata": {
    "collapsed": true
   },
   "outputs": [],
   "source": []
  }
 ],
 "metadata": {
  "kernelspec": {
   "display_name": "Python 2",
   "language": "python",
   "name": "python2"
  },
  "language_info": {
   "codemirror_mode": {
    "name": "ipython",
    "version": 2
   },
   "file_extension": ".py",
   "mimetype": "text/x-python",
   "name": "python",
   "nbconvert_exporter": "python",
   "pygments_lexer": "ipython2",
   "version": "2.7.11"
  }
 },
 "nbformat": 4,
 "nbformat_minor": 0
}
