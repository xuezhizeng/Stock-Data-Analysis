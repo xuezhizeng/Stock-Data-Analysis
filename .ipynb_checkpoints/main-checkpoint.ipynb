{
 "cells": [
  {
   "cell_type": "code",
   "execution_count": 11,
   "metadata": {
    "collapsed": true
   },
   "outputs": [],
   "source": [
    "import pandas as pd\n",
    "import os\n",
    "import time\n",
    "from datetime import datetime"
   ]
  },
  {
   "cell_type": "code",
   "execution_count": 12,
   "metadata": {
    "collapsed": true
   },
   "outputs": [],
   "source": [
    "path = \"./\""
   ]
  },
  {
   "cell_type": "code",
   "execution_count": 13,
   "metadata": {
    "collapsed": true
   },
   "outputs": [],
   "source": [
    "def Key_stats(gather=\"Total Debt/Equity (mrq)\"):\n",
    "    \n",
    "    statspath = path + '/_KeyStats'\n",
    "    stock_list = [x[0] for x in os.walk(statspath)]\n",
    "    df = pd.DataFrame(columns=['Date','Unix','Ticker','DE Ratio'])\n",
    "    #print (stock_list)\n",
    "    \n",
    "    #download from quandl.com\n",
    "    sp500_df = pd.DataFrame.from_csv(\"something.csv\")\n",
    "    \n",
    "    for each_dir in stock_list[1:]:\n",
    "        each_file = os.listdir(each_dir)\n",
    "        ticker = each_dir.split(\"\\\\\")[1]\n",
    "        \n",
    "        if len(each_file):\n",
    "            for file in each_file:\n",
    "                \n",
    "                date_stamp = datetime.strptime(file,'%Y%m%d%H%M%S.html')\n",
    "                unix_time = time.mktime(date_stamp.timetuple())\n",
    "                \n",
    "                #print (date_stamp,unix_time)\n",
    "                \n",
    "                full_file_path = each_dir+'/'+file\n",
    "                #print(full_file_path)\n",
    "                \n",
    "                source = open(full_file_path,'r').read()\n",
    "                #print (source)\n",
    "                \n",
    "                try:\n",
    "                    value = float(source.split(gather+':</td><td class=\"yfnc_tabledata1\">')[1].split('</td>')[0])\n",
    "                    df = df.append({'Date':date_stamp,'Unix':unix_time,'Ticker':ticker,'DE Ratio':value,},\n",
    "                                  ignore_index=True)\n",
    "                    \n",
    "                    try:\n",
    "                        sp500_date = datetime.fromtimestamp(unix_time).strftime('%Y-%m-%d')\n",
    "                        row = sp500_df[(sp500_df.index == sp500_date)]\n",
    "                        sp500_value = float(row([\"adjusted\"]))\n",
    "                        \n",
    "                    except:\n",
    "                        sp500_date = datetime.fromtimestamp(unix_time=259200).strftime('%Y-%m-%d')\n",
    "                        row = sp500_df[(sp500_df.index == sp500_date)]\n",
    "                        sp500_value = float(row([\"adjusted\"]))\n",
    "                        \n",
    "                    stock_price = float(source.split('</small><big><b>')[1].split('</b></big>')[0])\n",
    "                    #print (\"stock_price:\",stock_price,\"ticker\",ticker)\n",
    "                    \n",
    "                    \n",
    "                        \n",
    "                    #print(ticker+\":\",value)\n",
    "                except Exception as e:\n",
    "                    pass\n",
    "                \n",
    "    save = gather.replace(' ','').replace(')','').replace('(','').replace('/','')+str('.csv')\n",
    "    print (save)\n",
    "    df.to_csv(save)\n",
    "                \n",
    "    "
   ]
  }
 ],
 "metadata": {
  "kernelspec": {
   "display_name": "Python 2",
   "language": "python",
   "name": "python2"
  },
  "language_info": {
   "codemirror_mode": {
    "name": "ipython",
    "version": 2
   },
   "file_extension": ".py",
   "mimetype": "text/x-python",
   "name": "python",
   "nbconvert_exporter": "python",
   "pygments_lexer": "ipython2",
   "version": "2.7.11"
  }
 },
 "nbformat": 4,
 "nbformat_minor": 0
}
