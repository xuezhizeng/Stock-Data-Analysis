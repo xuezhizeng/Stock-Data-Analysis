{
 "cells": [
  {
   "cell_type": "code",
   "execution_count": 1,
   "metadata": {
    "collapsed": true
   },
   "outputs": [],
   "source": [
    "import pandas as pd\n",
    "import os\n",
    "from Quandl import Quandl\n",
    "import time"
   ]
  },
  {
   "cell_type": "code",
   "execution_count": 2,
   "metadata": {
    "collapsed": true
   },
   "outputs": [],
   "source": [
    "auth_tok = open(\"auth.txt\",\"r\").read()"
   ]
  },
  {
   "cell_type": "code",
   "execution_count": 5,
   "metadata": {
    "collapsed": true
   },
   "outputs": [],
   "source": [
    "data = Quandl.get(\"WIKI/KO\",trim_start=\"2000-12-12\",\n",
    "                  trim_end=\"2014-12-12\",authtoken=auth_tok)"
   ]
  },
  {
   "cell_type": "code",
   "execution_count": 8,
   "metadata": {
    "collapsed": false
   },
   "outputs": [
    {
     "name": "stdout",
     "output_type": "stream",
     "text": [
      "Date\n",
      "2000-12-12    19.513400\n",
      "2000-12-13    19.449477\n",
      "2000-12-14    19.176962\n",
      "2000-12-15    17.999430\n",
      "2000-12-18    18.463714\n",
      "2000-12-19    19.092853\n",
      "2000-12-20    18.924634\n",
      "2000-12-21    19.977685\n",
      "2000-12-22    19.809466\n",
      "2000-12-26    20.186276\n",
      "2000-12-27    20.374681\n",
      "2000-12-28    20.542900\n",
      "2000-12-29    20.502528\n",
      "2001-01-02    20.458791\n",
      "2001-01-03    19.933948\n",
      "2001-01-04    19.365368\n",
      "2001-01-05    19.409104\n",
      "2001-01-08    19.725356\n",
      "2001-01-09    19.977685\n",
      "2001-01-10    19.893575\n",
      "2001-01-11    19.304809\n",
      "2001-01-12    19.052480\n",
      "2001-01-16    19.176962\n",
      "2001-01-17    19.493214\n",
      "2001-01-18    19.220699\n",
      "2001-01-19    18.776601\n",
      "2001-01-22    18.736229\n",
      "2001-01-23    19.136590\n",
      "2001-01-24    19.533587\n",
      "2001-01-25    19.725356\n",
      "                ...    \n",
      "2014-10-31    39.952813\n",
      "2014-11-03    39.886034\n",
      "2014-11-04    39.895574\n",
      "2014-11-05    40.363025\n",
      "2014-11-06    40.343946\n",
      "2014-11-07    40.372565\n",
      "2014-11-10    40.439344\n",
      "2014-11-11    40.553822\n",
      "2014-11-12    40.744619\n",
      "2014-11-13    40.820937\n",
      "2014-11-14    40.763698\n",
      "2014-11-17    40.944955\n",
      "2014-11-18    41.526885\n",
      "2014-11-19    42.185133\n",
      "2014-11-20    42.213753\n",
      "2014-11-21    42.452248\n",
      "2014-11-24    42.232832\n",
      "2014-11-25    42.385470\n",
      "2014-11-26    42.542877\n",
      "2014-11-28    43.061575\n",
      "2014-12-01    42.792621\n",
      "2014-12-02    42.783015\n",
      "2014-12-03    42.072206\n",
      "2014-12-04    41.784040\n",
      "2014-12-05    41.812857\n",
      "2014-12-08    41.438241\n",
      "2014-12-09    40.381633\n",
      "2014-12-10    39.958990\n",
      "2014-12-11    39.891752\n",
      "2014-12-12    39.296209\n",
      "Name: Adj. Close, dtype: float64\n"
     ]
    }
   ],
   "source": [
    "print data[\"Adj. Close\"]"
   ]
  },
  {
   "cell_type": "code",
   "execution_count": null,
   "metadata": {
    "collapsed": true
   },
   "outputs": [],
   "source": []
  }
 ],
 "metadata": {
  "kernelspec": {
   "display_name": "Python 2",
   "language": "python",
   "name": "python2"
  },
  "language_info": {
   "codemirror_mode": {
    "name": "ipython",
    "version": 2
   },
   "file_extension": ".py",
   "mimetype": "text/x-python",
   "name": "python",
   "nbconvert_exporter": "python",
   "pygments_lexer": "ipython2",
   "version": "2.7.11"
  }
 },
 "nbformat": 4,
 "nbformat_minor": 0
}
