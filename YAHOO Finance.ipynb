{
 "cells": [
  {
   "cell_type": "code",
   "execution_count": 1,
   "metadata": {
    "collapsed": false
   },
   "outputs": [],
   "source": [
    "from urllib2 import urlopen\n",
    "import os\n",
    "import time"
   ]
  },
  {
   "cell_type": "code",
   "execution_count": 2,
   "metadata": {
    "collapsed": true
   },
   "outputs": [],
   "source": [
    "path = \"./intraQuarter\""
   ]
  },
  {
   "cell_type": "code",
   "execution_count": 3,
   "metadata": {
    "collapsed": false
   },
   "outputs": [],
   "source": [
    "def check_Yahoo():\n",
    "    statspath = path+\"/_KeyStats\"\n",
    "    stock_list = [x[0] for x in os.walk(statspath)]\n",
    "    \n",
    "    i = 26\n",
    "    for e in stock_list[26:]:\n",
    "        print i\n",
    "        i+=1\n",
    "        try:\n",
    "            e = e.replace(\"./intraQuarter/_KeyStats/\",\"\")\n",
    "            link = \"https://in.finance.yahoo.com/q/ks?s=\"+e.upper()\n",
    "            resp = urlopen(link).read()\n",
    "            save = \"./live_portfolios/\"+str(e)+\".html\"\n",
    "            store = open(save,\"w\")\n",
    "            store.write(str(resp))\n",
    "            store.close()\n",
    "            print \"stored:\",e\n",
    "        except Exception as e:\n",
    "            print str(e)\n",
    "            "
   ]
  },
  {
   "cell_type": "code",
   "execution_count": null,
   "metadata": {
    "collapsed": false
   },
   "outputs": [
    {
     "name": "stdout",
     "output_type": "stream",
     "text": [
      "26\n",
      "stored: akam\n",
      "27\n",
      "stored: all\n",
      "28\n",
      "stored: altr\n",
      "29\n",
      "stored: alxn\n",
      "30\n",
      "stored: amat\n",
      "31\n",
      "stored: amd\n",
      "32\n",
      "stored: amgn\n",
      "33\n",
      "stored: amp\n",
      "34\n",
      "stored: amt\n",
      "35\n",
      "stored: amzn\n",
      "36\n",
      "stored: an\n",
      "37\n",
      "stored: anf\n",
      "38\n",
      "stored: ann\n",
      "39\n",
      "stored: aon\n",
      "40\n",
      "stored: apa\n",
      "41\n",
      "stored: apc\n",
      "42\n",
      "stored: apd\n",
      "43\n",
      "stored:"
     ]
    }
   ],
   "source": [
    "check_Yahoo()"
   ]
  },
  {
   "cell_type": "code",
   "execution_count": null,
   "metadata": {
    "collapsed": true
   },
   "outputs": [],
   "source": []
  }
 ],
 "metadata": {
  "kernelspec": {
   "display_name": "Python 2",
   "language": "python",
   "name": "python2"
  },
  "language_info": {
   "codemirror_mode": {
    "name": "ipython",
    "version": 2
   },
   "file_extension": ".py",
   "mimetype": "text/x-python",
   "name": "python",
   "nbconvert_exporter": "python",
   "pygments_lexer": "ipython2",
   "version": "2.7.11"
  }
 },
 "nbformat": 4,
 "nbformat_minor": 0
}
