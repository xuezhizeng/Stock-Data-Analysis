{
 "cells": [
  {
   "cell_type": "code",
   "execution_count": 28,
   "metadata": {
    "collapsed": false
   },
   "outputs": [],
   "source": [
    "from urllib2 import urlopen\n",
    "import os\n",
    "import time"
   ]
  },
  {
   "cell_type": "code",
   "execution_count": 29,
   "metadata": {
    "collapsed": true
   },
   "outputs": [],
   "source": [
    "path = \"./intraQuarter\""
   ]
  },
  {
   "cell_type": "code",
   "execution_count": 38,
   "metadata": {
    "collapsed": false
   },
   "outputs": [],
   "source": [
    "def check_Yahoo():\n",
    "    statspath = path+\"/_KeyStats\"\n",
    "    stock_list = [x[0] for x in os.walk(statspath)]\n",
    "    \n",
    "    for e in stock_list[1:5]:\n",
    "        try:\n",
    "            e = e.replace(\"./intraQuarter/_KeyStats/\",\"\")\n",
    "            link = \"https://in.finance.yahoo.com/q/ks?s=\"+e.upper()\n",
    "            resp = urlopen(link).read()\n",
    "            save = \"./live_portfolio/\"+str(e)+\".html\"\n",
    "            store = open(save,\"w\")\n",
    "            store.write(str(resp))\n",
    "            store.close()\n",
    "            print \"stored:\",e\n",
    "        except Exception as e:\n",
    "            print str(e)\n",
    "            "
   ]
  },
  {
   "cell_type": "code",
   "execution_count": 39,
   "metadata": {
    "collapsed": false
   },
   "outputs": [
    {
     "name": "stdout",
     "output_type": "stream",
     "text": [
      "stored: a\n",
      "stored: aa\n",
      "stored: aapl\n",
      "stored: abbv\n"
     ]
    }
   ],
   "source": [
    "check_Yahoo()"
   ]
  },
  {
   "cell_type": "code",
   "execution_count": null,
   "metadata": {
    "collapsed": true
   },
   "outputs": [],
   "source": []
  }
 ],
 "metadata": {
  "kernelspec": {
   "display_name": "Python 2",
   "language": "python",
   "name": "python2"
  },
  "language_info": {
   "codemirror_mode": {
    "name": "ipython",
    "version": 2
   },
   "file_extension": ".py",
   "mimetype": "text/x-python",
   "name": "python",
   "nbconvert_exporter": "python",
   "pygments_lexer": "ipython2",
   "version": "2.7.11"
  }
 },
 "nbformat": 4,
 "nbformat_minor": 0
}
