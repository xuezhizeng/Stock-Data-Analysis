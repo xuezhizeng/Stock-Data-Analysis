{
 "cells": [
  {
   "cell_type": "code",
   "execution_count": 265,
   "metadata": {
    "collapsed": true
   },
   "outputs": [],
   "source": [
    "import pandas as pd\n",
    "import os\n",
    "import time\n",
    "import re\n",
    "from time import mktime\n",
    "import matplotlib.pyplot as plt\n",
    "import matplotlib\n",
    "from datetime import datetime\n",
    "\n",
    "from matplotlib import style"
   ]
  },
  {
   "cell_type": "code",
   "execution_count": 275,
   "metadata": {
    "collapsed": true
   },
   "outputs": [],
   "source": [
    "style.use(\"dark_background\")\n",
    "%matplotlib inline"
   ]
  },
  {
   "cell_type": "code",
   "execution_count": 299,
   "metadata": {
    "collapsed": false
   },
   "outputs": [],
   "source": [
    "def Key_stats(gather=\"Total Debt/Equity (mrq)\"):\n",
    "    path = \"/home/markroxor/intraQuarter/\"\n",
    "    \n",
    "    statspath = path + '/_KeyStats'\n",
    "    stock_list = [x[0] for x in os.walk(statspath)]\n",
    "\n",
    "    df = pd.DataFrame(columns=['Date',\n",
    "                               'Unix',\n",
    "                               'DE Ratio',\n",
    "                               'Price',\n",
    "                               'stock_p_change',\n",
    "                               'SP500',\n",
    "                               'sp500_p_change'\n",
    "                               'Difference'\n",
    "                              ])\n",
    "    #print (stock_list)\n",
    "\n",
    "    #download from quandl.com\n",
    "    sp500_df = pd.DataFrame.from_csv(\"./YAHOO-INDEX_GSPC.csv\")\n",
    "\n",
    "    ticker_list = []\n",
    "    for each_dir in stock_list[1:2]:\n",
    "        \n",
    "        each_file = os.listdir(each_dir)\n",
    "        ticker = each_dir.split(\"_KeyStats/\")[1]\n",
    "        \n",
    "        ticker_list.append(ticker)\n",
    "        \n",
    "        starting_stock_value = False\n",
    "        starting_sp500_value = False\n",
    "        \n",
    "        if len(each_file):\n",
    "            for file in each_file:\n",
    "                print \"file began!: \",file\n",
    "                \n",
    "                date_stamp = datetime.strptime(file,'%Y%m%d%H%M%S.html')\n",
    "                unix_time = time.mktime(date_stamp.timetuple())\n",
    "                \n",
    "                #print (date_stamp,unix_time)\n",
    "                \n",
    "                full_file_path = each_dir+'/'+file\n",
    "                #print \"full file path...\"\n",
    "                #print(full_file_path)\n",
    "                \n",
    "                source = open(full_file_path,'r').read()\n",
    "                \n",
    "                try:\n",
    "                    try:\n",
    "                        value = float(source.split(gather+':</td><td class=\"yfnc_tabledata1\">')[1].split('</td>')[0])\n",
    "                    except:\n",
    "                        value = float(source.split(gather+':</td>\\n<td class=\"yfnc_tabledata1\">')[1].split('</td>')[0])\n",
    "                    \n",
    "                    print \"no NA error\"\n",
    "                    \n",
    "                    try:\n",
    "                        sp500_date = datetime.fromtimestamp(unix_time).strftime('%Y-%m-%d')\n",
    "                        row = sp500_df[(sp500_df.index == sp500_date)]\n",
    "                        sp500_value = float(row[\"Adj Close\"][0])\n",
    "                        \n",
    "                    except Exception as e:\n",
    "                        sp500_date = datetime.fromtimestamp(unix_time-259200).strftime('%Y-%m-%d')\n",
    "                        row = sp500_df[(sp500_df.index == sp500_date)]\n",
    "                        sp500_value = float(row[\"Adj Close\"][0])\n",
    "                        \n",
    "                    #print sp500_date\n",
    "                    \n",
    "                    try:\n",
    "                        stock_price = float(source.split('</small><big><b>')[1].split('</b></big>')[0])\n",
    "                    except:\n",
    "                        stock_price = float(source.split('<span id=\"yfs_l10_de\">')[1].split('</span>')[0])\n",
    "                        \n",
    "                    #print (\"stock_price:\",stock_price,\"ticker\",ticker)\n",
    "                    \n",
    "                    if not starting_stock_value:\n",
    "                        starting_stock_value = stock_price\n",
    "                    if not starting_sp500_value:\n",
    "                        starting_sp500_value = sp500_value\n",
    "                    \n",
    "                        \n",
    "                    stock_p_change = ((stock_price-starting_stock_value)/starting_stock_value)*100\n",
    "                    sp500_p_change = ((sp500_value-starting_sp500_value)/starting_sp500_value)*100\n",
    "                        \n",
    "                    df = df.append({'Date':date_stamp,\n",
    "                                    'Unix':unix_time,\n",
    "                                    'Ticker':ticker,\n",
    "                                    'DE Ratio':value,\n",
    "                                    'Price':stock_price,\n",
    "                                    'stock_p_change':stock_p_change,\n",
    "                                    'SP500':sp500_value,\n",
    "                                    'sp500_p_change':sp500_p_change,\n",
    "                                   'Difference':stock_p_change-sp500_p_change\n",
    "                                   },\n",
    "                                  ignore_index=True)\n",
    "                    \n",
    "                except Exception as e:\n",
    "                    print \"Exception caught!!!\"\n",
    "                    print(str(e))\n",
    "        \n",
    "                #print \"ended\"        \n",
    "\n",
    "    for each_ticker in ticker_list:\n",
    "        try:\n",
    "            plot_df = df[(df['Ticker']==each_ticker)]\n",
    "            plot_df = plot_df.set_index(['Date'])\n",
    "            \n",
    "            plot_df['Difference'].plot(label=each_ticker)\n",
    "            plt.legend()\n",
    "            print \"something plotted!\"\n",
    "            \n",
    "        except Exception as e:\n",
    "            print (e)\n",
    "            pass \n",
    "    \n",
    "    plt.show()\n",
    "    save = gather.replace(' ','').replace(')','').replace('(','').replace('/','')+('.csv')\n",
    "    print (save)\n",
    "    df.to_csv(save)\n",
    "                "
   ]
  },
  {
   "cell_type": "code",
   "execution_count": 300,
   "metadata": {
    "collapsed": false
   },
   "outputs": [
    {
     "name": "stdout",
     "output_type": "stream",
     "text": [
      "file began!:  20060814132431.html\n",
      "no NA error\n",
      "file began!:  20070428095728.html\n",
      "no NA error\n",
      "file began!:  20091128100825.html\n",
      "Exception caught!!!\n",
      "list index out of range\n",
      "file began!:  20050119095423.html\n",
      "no NA error\n",
      "file began!:  20080318220748.html\n",
      "no NA error\n",
      "file began!:  20070528153330.html\n",
      "no NA error\n",
      "file began!:  20070629142513.html\n",
      "no NA error\n",
      "file began!:  20130425030617.html\n",
      "no NA error\n",
      "Exception caught!!!\n",
      "list index out of range\n",
      "file began!:  20081221071828.html\n",
      "no NA error\n",
      "file began!:  20050310015542.html\n",
      "no NA error\n",
      "file began!:  20040627162442.html\n",
      "no NA error\n",
      "file began!:  20071225173128.html\n",
      "no NA error\n",
      "Exception caught!!!\n",
      "index out of bounds\n",
      "file began!:  20040427162051.html\n",
      "no NA error\n",
      "file began!:  20110928162430.html\n",
      "no NA error\n",
      "file began!:  20070404170611.html\n",
      "no NA error\n",
      "file began!:  20080327214501.html\n",
      "no NA error\n",
      "file began!:  20111109153018.html\n",
      "no NA error\n",
      "file began!:  20070609183829.html\n",
      "no NA error\n",
      "something plotted!\n"
     ]
    },
    {
     "data": {
      "image/png": "[encoded data removed]",
      "text/plain": [
       "<matplotlib.figure.Figure at 0x7f6643c2e8d0>"
      ]
     },
     "metadata": {},
     "output_type": "display_data"
    },
    {
     "name": "stdout",
     "output_type": "stream",
     "text": [
      "TotalDebtEquitymrq.csv\n"
     ]
    }
   ],
   "source": [
    "Key_stats()"
   ]
  },
  {
   "cell_type": "code",
   "execution_count": null,
   "metadata": {
    "collapsed": true
   },
   "outputs": [],
   "source": []
  }
 ],
 "metadata": {
  "kernelspec": {
   "display_name": "Python 2",
   "language": "python",
   "name": "python2"
  },
  "language_info": {
   "codemirror_mode": {
    "name": "ipython",
    "version": 2
   },
   "file_extension": ".py",
   "mimetype": "text/x-python",
   "name": "python",
   "nbconvert_exporter": "python",
   "pygments_lexer": "ipython2",
   "version": "2.7.11"
  }
 },
 "nbformat": 4,
 "nbformat_minor": 0
}
