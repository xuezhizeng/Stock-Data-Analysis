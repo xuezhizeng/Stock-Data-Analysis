{
 "cells": [
  {
   "cell_type": "code",
   "execution_count": 9,
   "metadata": {
    "collapsed": false
   },
   "outputs": [],
   "source": [
    "import numpy as np\n",
    "from __future__ import division"
   ]
  },
  {
   "cell_type": "code",
   "execution_count": 10,
   "metadata": {
    "collapsed": true
   },
   "outputs": [],
   "source": [
    "import warnings\n",
    "warnings.filterwarnings(\"ignore\")"
   ]
  },
  {
   "cell_type": "code",
   "execution_count": 11,
   "metadata": {
    "collapsed": false
   },
   "outputs": [],
   "source": [
    "import matplotlib.pyplot as plt\n",
    "from sklearn import svm,preprocessing\n",
    "import pandas as pd\n",
    "from matplotlib import style\n",
    "import statistics\n",
    "style.use(\"ggplot\")"
   ]
  },
  {
   "cell_type": "code",
   "execution_count": 12,
   "metadata": {
    "collapsed": false
   },
   "outputs": [],
   "source": [
    "FEATURES = [\"DE Ratio\",\n",
    "                      'Trailing P/E',\n",
    "                      'Price/Sales',\n",
    "                      'Price/Book',\n",
    "                      'Profit Margin',\n",
    "                      'Operating Margin',\n",
    "                      'Return on Assets',\n",
    "                      'Return on Equity',\n",
    "                      'Revenue Per Share',\n",
    "                      'Market Cap',\n",
    "                        'Enterprise Value',\n",
    "                        'Forward P/E',\n",
    "                        'PEG Ratio',\n",
    "                        'Enterprise Value/Revenue',\n",
    "                        'Enterprise Value/EBITDA',\n",
    "                        'Revenue',\n",
    "                        'Gross Profit',\n",
    "                        'EBITDA',\n",
    "                        'Net Income Avl to Common ',\n",
    "                        'Diluted EPS',\n",
    "                        'Earnings Growth',\n",
    "                        'Revenue Growth',\n",
    "                        'Total Cash',\n",
    "                        'Total Cash Per Share',\n",
    "                        'Total Debt',\n",
    "                        'Current Ratio',\n",
    "                        'Book Value Per Share',\n",
    "                        'Cash Flow',\n",
    "                        'Beta',\n",
    "                        'Held by Insiders',\n",
    "                        'Held by Institutions',\n",
    "                        'Shares Short (as of',\n",
    "                        'Short Ratio',\n",
    "                        'Short % of Float',\n",
    "                        'Shares Short (prior ']\n"
   ]
  },
  {
   "cell_type": "code",
   "execution_count": 13,
   "metadata": {
    "collapsed": true
   },
   "outputs": [],
   "source": [
    "def Build_Data_Set():\n",
    "    \n",
    "    #data_df = pd.DataFrame.from_csv(\"key_stats.csv\")\n",
    "    data_df = pd.DataFrame.from_csv(\"key_stats_acc_perf_NO_NA.csv\")\n",
    "    data_df = data_df.replace(\"NaN\",0).replace(\"N/A\",0)\n",
    "    \n",
    "    #data_df = data_df[:100]\n",
    "    data_df = data_df.reindex(np.random.permutation(data_df.index))\n",
    "    \n",
    "    X = np.array(data_df[FEATURES].values)\n",
    "    y = (data_df[\"Status\"]\n",
    "        .replace(\"underperform\",0)\n",
    "        .replace(\"outperform\",1)\n",
    "        .values.tolist())\n",
    "    X = preprocessing.scale(X)\n",
    "    Z = np.array(data_df[[\"stock_p_change\",\"sp500_p_change\"]])\n",
    "    \n",
    "    return X,y,Z"
   ]
  },
  {
   "cell_type": "code",
   "execution_count": 18,
   "metadata": {
    "collapsed": false
   },
   "outputs": [],
   "source": [
    "def Analysis():    \n",
    "    test_size = 1\n",
    "    invest_amount = 10000\n",
    "    total_invests = 0\n",
    "    if_market = 0\n",
    "    if_strat = 0  \n",
    "    \n",
    "    X,y,Z = Build_Data_Set()\n",
    "    print len(X)\n",
    "    clf = svm.SVC(kernel = \"linear\",C=1.0)\n",
    "    clf.fit(X[:-test_size],y[:-test_size])\n",
    "    \n",
    "    correct_count = 0\n",
    "    \n",
    "    for x in range(1,test_size+1):\n",
    "        if clf.predict(X[-x])[0] == y[-x]:\n",
    "            correct_count+=1\n",
    "            \n",
    "        if clf.predict(X[-x])[0] == 1:\n",
    "            invest_return = invest_amount + (invest_amount*(Z[-x][0]/100))\n",
    "            market_return = invest_amount + (invest_amount*(Z[-x][1]/100))\n",
    "            \n",
    "            total_invests += 1\n",
    "            if_market += market_return\n",
    "            if_strat += invest_return\n",
    "            \n",
    "    data_df = pd.DataFrame.from_csv(\"forward_sample_NO_NA.csv\")\n",
    "    data_df = data_df.replace(\"N/A\",0).replace(\"NaN\",0)\n",
    "    X = np.array(data_df[FEATURES].values)\n",
    "    X = preprocessing.scale(X)\n",
    "    Z = data_df[\"Ticker\"].values.tolist()\n",
    "    \n",
    "    invest_list = []\n",
    "    \n",
    "    for i in xrange(len(X)):\n",
    "        p = clf.predict(X[i])[0]\n",
    "        if p==1:\n",
    "            print (Z[i])\n",
    "            invest_list.append(Z[i])\n",
    "            \n",
    "    print (len(invest_list))\n",
    "    print invest_list\n",
    "    "
   ]
  },
  {
   "cell_type": "code",
   "execution_count": 19,
   "metadata": {
    "collapsed": false
   },
   "outputs": [
    {
     "name": "stdout",
     "output_type": "stream",
     "text": [
      "9236\n",
      "a\n",
      "aa\n",
      "abbv\n",
      "abc\n",
      "abt\n",
      "5\n",
      "['a', 'aa', 'abbv', 'abc', 'abt']\n"
     ]
    }
   ],
   "source": [
    "Analysis()"
   ]
  },
  {
   "cell_type": "code",
   "execution_count": null,
   "metadata": {
    "collapsed": true
   },
   "outputs": [],
   "source": []
  }
 ],
 "metadata": {
  "kernelspec": {
   "display_name": "Python 2",
   "language": "python",
   "name": "python2"
  },
  "language_info": {
   "codemirror_mode": {
    "name": "ipython",
    "version": 2
   },
   "file_extension": ".py",
   "mimetype": "text/x-python",
   "name": "python",
   "nbconvert_exporter": "python",
   "pygments_lexer": "ipython2",
   "version": "2.7.11"
  }
 },
 "nbformat": 4,
 "nbformat_minor": 0
}
