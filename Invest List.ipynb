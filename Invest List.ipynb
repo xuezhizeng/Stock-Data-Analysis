{
 "cells": [
  {
   "cell_type": "code",
   "execution_count": 3,
   "metadata": {
    "collapsed": false
   },
   "outputs": [],
   "source": [
    "import numpy as np\n",
    "from __future__ import division"
   ]
  },
  {
   "cell_type": "code",
   "execution_count": 4,
   "metadata": {
    "collapsed": true
   },
   "outputs": [],
   "source": [
    "import warnings\n",
    "warnings.filterwarnings(\"ignore\")"
   ]
  },
  {
   "cell_type": "code",
   "execution_count": 5,
   "metadata": {
    "collapsed": false
   },
   "outputs": [],
   "source": [
    "import matplotlib.pyplot as plt\n",
    "from sklearn import svm,preprocessing\n",
    "import pandas as pd\n",
    "from matplotlib import style\n",
    "import statistics"
   ]
  },
  {
   "cell_type": "code",
   "execution_count": 6,
   "metadata": {
    "collapsed": false
   },
   "outputs": [],
   "source": [
    "FEATURES = [\"DE Ratio\",\n",
    "                      'Trailing P/E',\n",
    "                      'Price/Sales',\n",
    "                      'Price/Book',\n",
    "                      'Profit Margin',\n",
    "                      'Operating Margin',\n",
    "                      'Return on Assets',\n",
    "                      'Return on Equity',\n",
    "                      'Revenue Per Share',\n",
    "                      'Market Cap',\n",
    "                        'Enterprise Value',\n",
    "                        'Forward P/E',\n",
    "                        'PEG Ratio',\n",
    "                        'Enterprise Value/Revenue',\n",
    "                        'Enterprise Value/EBITDA',\n",
    "                        'Revenue',\n",
    "                        'Gross Profit',\n",
    "                        'EBITDA',\n",
    "                        'Net Income Avl to Common ',\n",
    "                        'Diluted EPS',\n",
    "                        'Earnings Growth',\n",
    "                        'Revenue Growth',\n",
    "                        'Total Cash',\n",
    "                        'Total Cash Per Share',\n",
    "                        'Total Debt',\n",
    "                        'Current Ratio',\n",
    "                        'Book Value Per Share',\n",
    "                        'Cash Flow',\n",
    "                        'Beta',\n",
    "                        'Held by Insiders',\n",
    "                        'Held by Institutions',\n",
    "                        'Shares Short (as of',\n",
    "                        'Short Ratio',\n",
    "                        'Short % of Float',\n",
    "                        'Shares Short (prior ']\n",
    "\n",
    "style.use(\"ggplot\")\n",
    "how_much_better = 5"
   ]
  },
  {
   "cell_type": "code",
   "execution_count": 7,
   "metadata": {
    "collapsed": true
   },
   "outputs": [],
   "source": [
    "def Status_Calc(stock,sp500):\n",
    "    difference = stock - sp500\n",
    "    \n",
    "    if difference > how_much_better:\n",
    "        return 1\n",
    "    else:\n",
    "        return 0"
   ]
  },
  {
   "cell_type": "code",
   "execution_count": 8,
   "metadata": {
    "collapsed": true
   },
   "outputs": [],
   "source": [
    "def Build_Data_Set():\n",
    "    \n",
    "    #data_df = pd.DataFrame.from_csv(\"key_stats.csv\")\n",
    "    data_df = pd.DataFrame.from_csv(\"key_stats_acc_perf_NO_NA.csv\")\n",
    "    data_df = data_df.reindex(np.random.permutation(data_df.index))\n",
    "    data_df = data_df.replace(\"NaN\",0).replace(\"N/A\",0)\n",
    "    \n",
    "    data_df[\"Status2\"] = list(map(Status_Calc,data_df[\"stock_p_change\"],\n",
    "                                 data_df[\"sp500_p_change\"]))\n",
    "    \n",
    "    \n",
    "    X = np.array(data_df[FEATURES].values)\n",
    "    y = (data_df[\"Status2\"]\n",
    "        .replace(\"underperform\",0)\n",
    "        .replace(\"outperform\",1)\n",
    "        .values.tolist())\n",
    "    X = preprocessing.scale(X)\n",
    "    Z = np.array(data_df[[\"stock_p_change\",\"sp500_p_change\"]])\n",
    "    \n",
    "    return X,y,Z"
   ]
  },
  {
   "cell_type": "code",
   "execution_count": 9,
   "metadata": {
    "collapsed": false
   },
   "outputs": [],
   "source": [
    "def Analysis():    \n",
    "    test_size = 1\n",
    "    invest_amount = 10000\n",
    "    total_invests = 0\n",
    "    if_market = 0\n",
    "    if_strat = 0  \n",
    "    \n",
    "    X,y,Z = Build_Data_Set()\n",
    "    print len(X)\n",
    "    print \"X\"\n",
    "    print X\n",
    "    clf = svm.SVC(kernel = \"linear\",C=1.0)\n",
    "    clf.fit(X[:-test_size],y[:-test_size])\n",
    "    \n",
    "    correct_count = 0\n",
    "    \n",
    "    for x in range(1,test_size+1):\n",
    "        if clf.predict(X[-x])[0] == y[-x]:\n",
    "            correct_count+=1\n",
    "            \n",
    "        if clf.predict(X[-x])[0] == 1:\n",
    "            invest_return = invest_amount + (invest_amount*(Z[-x][0]/100))\n",
    "            market_return = invest_amount + (invest_amount*(Z[-x][1]/100))\n",
    "            \n",
    "            total_invests += 1\n",
    "            if_market += market_return\n",
    "            if_strat += invest_return\n",
    "            \n",
    "    data_df = pd.DataFrame.from_csv(\"forward_sample_NO_NA.csv\")\n",
    "    data_df = data_df.replace(\"N/A\",0).replace(\"NaN\",0)\n",
    "    X = np.array(data_df[FEATURES].values)\n",
    "    X = preprocessing.scale(X)\n",
    "    Z = data_df[\"Ticker\"].values.tolist()\n",
    "    \n",
    "    invest_list = []\n",
    "    \n",
    "    for i in xrange(len(X)):\n",
    "        p = clf.predict(X[i])[0]\n",
    "        if p==1:\n",
    "            print (Z[i])\n",
    "            invest_list.append(Z[i])\n",
    "            \n",
    "    print (len(invest_list))\n",
    "    print invest_list\n",
    "    "
   ]
  },
  {
   "cell_type": "code",
   "execution_count": 10,
   "metadata": {
    "collapsed": false
   },
   "outputs": [
    {
     "name": "stdout",
     "output_type": "stream",
     "text": [
      "9236\n",
      "X\n",
      "[[-0.36835799  1.092487    0.00400417 ..., -0.51140054 -0.16976418\n",
      "  -0.06417012]\n",
      " [-0.36753031  0.91282441  0.1352234  ..., -0.79911379 -0.35860091\n",
      "   0.51670473]\n",
      " [-0.36835799  0.13726468  0.15720429 ..., -0.48476043 -0.2080419\n",
      "  -0.44053157]\n",
      " ..., \n",
      " [-0.2811328   0.46998038 -0.01398019 ..., -0.56468077  0.41716078\n",
      "  -0.56338163]\n",
      " [-0.36835799  0.20951818  0.24113131 ...,  0.05923073 -0.50660807\n",
      "  -0.62906736]\n",
      " [-0.34602325 -0.02394608 -0.15785508 ...,  1.61954229 -0.256527\n",
      "  -0.28395101]]\n"
     ]
    },
    {
     "ename": "KeyboardInterrupt",
     "evalue": "",
     "output_type": "error",
     "traceback": [
      "\u001b[1;31m---------------------------------------------------------------------------\u001b[0m",
      "\u001b[1;31mKeyboardInterrupt\u001b[0m                         Traceback (most recent call last)",
      "\u001b[1;32m<ipython-input-10-6e5ad2589def>\u001b[0m in \u001b[0;36m<module>\u001b[1;34m()\u001b[0m\n\u001b[1;32m----> 1\u001b[1;33m \u001b[0mAnalysis\u001b[0m\u001b[1;33m(\u001b[0m\u001b[1;33m)\u001b[0m\u001b[1;33m\u001b[0m\u001b[0m\n\u001b[0m",
      "\u001b[1;32m<ipython-input-9-315987aea0ff>\u001b[0m in \u001b[0;36mAnalysis\u001b[1;34m()\u001b[0m\n\u001b[0;32m     11\u001b[0m     \u001b[1;32mprint\u001b[0m \u001b[0mX\u001b[0m\u001b[1;33m\u001b[0m\u001b[0m\n\u001b[0;32m     12\u001b[0m     \u001b[0mclf\u001b[0m \u001b[1;33m=\u001b[0m \u001b[0msvm\u001b[0m\u001b[1;33m.\u001b[0m\u001b[0mSVC\u001b[0m\u001b[1;33m(\u001b[0m\u001b[0mkernel\u001b[0m \u001b[1;33m=\u001b[0m \u001b[1;34m\"linear\"\u001b[0m\u001b[1;33m,\u001b[0m\u001b[0mC\u001b[0m\u001b[1;33m=\u001b[0m\u001b[1;36m1.0\u001b[0m\u001b[1;33m)\u001b[0m\u001b[1;33m\u001b[0m\u001b[0m\n\u001b[1;32m---> 13\u001b[1;33m     \u001b[0mclf\u001b[0m\u001b[1;33m.\u001b[0m\u001b[0mfit\u001b[0m\u001b[1;33m(\u001b[0m\u001b[0mX\u001b[0m\u001b[1;33m[\u001b[0m\u001b[1;33m:\u001b[0m\u001b[1;33m-\u001b[0m\u001b[0mtest_size\u001b[0m\u001b[1;33m]\u001b[0m\u001b[1;33m,\u001b[0m\u001b[0my\u001b[0m\u001b[1;33m[\u001b[0m\u001b[1;33m:\u001b[0m\u001b[1;33m-\u001b[0m\u001b[0mtest_size\u001b[0m\u001b[1;33m]\u001b[0m\u001b[1;33m)\u001b[0m\u001b[1;33m\u001b[0m\u001b[0m\n\u001b[0m\u001b[0;32m     14\u001b[0m \u001b[1;33m\u001b[0m\u001b[0m\n\u001b[0;32m     15\u001b[0m     \u001b[0mcorrect_count\u001b[0m \u001b[1;33m=\u001b[0m \u001b[1;36m0\u001b[0m\u001b[1;33m\u001b[0m\u001b[0m\n",
      "\u001b[1;32m/home/markroxor/anaconda2/lib/python2.7/site-packages/sklearn/svm/base.pyc\u001b[0m in \u001b[0;36mfit\u001b[1;34m(self, X, y, sample_weight)\u001b[0m\n\u001b[0;32m    191\u001b[0m \u001b[1;33m\u001b[0m\u001b[0m\n\u001b[0;32m    192\u001b[0m         \u001b[0mseed\u001b[0m \u001b[1;33m=\u001b[0m \u001b[0mrnd\u001b[0m\u001b[1;33m.\u001b[0m\u001b[0mrandint\u001b[0m\u001b[1;33m(\u001b[0m\u001b[0mnp\u001b[0m\u001b[1;33m.\u001b[0m\u001b[0miinfo\u001b[0m\u001b[1;33m(\u001b[0m\u001b[1;34m'i'\u001b[0m\u001b[1;33m)\u001b[0m\u001b[1;33m.\u001b[0m\u001b[0mmax\u001b[0m\u001b[1;33m)\u001b[0m\u001b[1;33m\u001b[0m\u001b[0m\n\u001b[1;32m--> 193\u001b[1;33m         \u001b[0mfit\u001b[0m\u001b[1;33m(\u001b[0m\u001b[0mX\u001b[0m\u001b[1;33m,\u001b[0m \u001b[0my\u001b[0m\u001b[1;33m,\u001b[0m \u001b[0msample_weight\u001b[0m\u001b[1;33m,\u001b[0m \u001b[0msolver_type\u001b[0m\u001b[1;33m,\u001b[0m \u001b[0mkernel\u001b[0m\u001b[1;33m,\u001b[0m \u001b[0mrandom_seed\u001b[0m\u001b[1;33m=\u001b[0m\u001b[0mseed\u001b[0m\u001b[1;33m)\u001b[0m\u001b[1;33m\u001b[0m\u001b[0m\n\u001b[0m\u001b[0;32m    194\u001b[0m         \u001b[1;31m# see comment on the other call to np.iinfo in this file\u001b[0m\u001b[1;33m\u001b[0m\u001b[1;33m\u001b[0m\u001b[0m\n\u001b[0;32m    195\u001b[0m \u001b[1;33m\u001b[0m\u001b[0m\n",
      "\u001b[1;32m/home/markroxor/anaconda2/lib/python2.7/site-packages/sklearn/svm/base.pyc\u001b[0m in \u001b[0;36m_dense_fit\u001b[1;34m(self, X, y, sample_weight, solver_type, kernel, random_seed)\u001b[0m\n\u001b[0;32m    249\u001b[0m                 \u001b[0mcache_size\u001b[0m\u001b[1;33m=\u001b[0m\u001b[0mself\u001b[0m\u001b[1;33m.\u001b[0m\u001b[0mcache_size\u001b[0m\u001b[1;33m,\u001b[0m \u001b[0mcoef0\u001b[0m\u001b[1;33m=\u001b[0m\u001b[0mself\u001b[0m\u001b[1;33m.\u001b[0m\u001b[0mcoef0\u001b[0m\u001b[1;33m,\u001b[0m\u001b[1;33m\u001b[0m\u001b[0m\n\u001b[0;32m    250\u001b[0m                 \u001b[0mgamma\u001b[0m\u001b[1;33m=\u001b[0m\u001b[0mself\u001b[0m\u001b[1;33m.\u001b[0m\u001b[0m_gamma\u001b[0m\u001b[1;33m,\u001b[0m \u001b[0mepsilon\u001b[0m\u001b[1;33m=\u001b[0m\u001b[0mself\u001b[0m\u001b[1;33m.\u001b[0m\u001b[0mepsilon\u001b[0m\u001b[1;33m,\u001b[0m\u001b[1;33m\u001b[0m\u001b[0m\n\u001b[1;32m--> 251\u001b[1;33m                 max_iter=self.max_iter, random_seed=random_seed)\n\u001b[0m\u001b[0;32m    252\u001b[0m \u001b[1;33m\u001b[0m\u001b[0m\n\u001b[0;32m    253\u001b[0m         \u001b[0mself\u001b[0m\u001b[1;33m.\u001b[0m\u001b[0m_warn_from_fit_status\u001b[0m\u001b[1;33m(\u001b[0m\u001b[1;33m)\u001b[0m\u001b[1;33m\u001b[0m\u001b[0m\n",
      "\u001b[1;31mKeyboardInterrupt\u001b[0m: "
     ]
    }
   ],
   "source": [
    "Analysis()"
   ]
  },
  {
   "cell_type": "code",
   "execution_count": null,
   "metadata": {
    "collapsed": true
   },
   "outputs": [],
   "source": []
  }
 ],
 "metadata": {
  "kernelspec": {
   "display_name": "Python 2",
   "language": "python",
   "name": "python2"
  },
  "language_info": {
   "codemirror_mode": {
    "name": "ipython",
    "version": 2
   },
   "file_extension": ".py",
   "mimetype": "text/x-python",
   "name": "python",
   "nbconvert_exporter": "python",
   "pygments_lexer": "ipython2",
   "version": "2.7.11"
  }
 },
 "nbformat": 4,
 "nbformat_minor": 0
}
